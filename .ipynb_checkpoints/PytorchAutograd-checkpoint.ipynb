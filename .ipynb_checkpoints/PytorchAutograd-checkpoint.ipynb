{
 "cells": [
  {
   "cell_type": "code",
   "execution_count": 1,
   "id": "2faa0d28",
   "metadata": {},
   "outputs": [
    {
     "data": {
      "text/plain": [
       "'\\n首先,autograd(自动微分/求导)在Pytorch中是一种自动触发的重要机制,和常说的\"Pytorch是动态图,Tensorflow是静态图\"有关,随着版本更迭,现在双方动静态都已支持\\n'"
      ]
     },
     "execution_count": 1,
     "metadata": {},
     "output_type": "execute_result"
    }
   ],
   "source": [
    "\"\"\"\n",
    "首先,autograd(自动微分/求导(反向传播))在Pytorch中是一种自动触发的重要机制,和常说的\"Pytorch是动态图,Tensorflow是静态图\"有关,随着版本更迭,现在双方动静态都已支持\n",
    "\n",
    "但是autograd机制原理不理解不影响工程的使用,但是该机制是Pytorch的一大特色!!!\n",
    "\"\"\""
   ]
  },
  {
   "cell_type": "code",
   "execution_count": 1,
   "id": "855cefff",
   "metadata": {},
   "outputs": [],
   "source": [
    "import torch"
   ]
  },
  {
   "cell_type": "code",
   "execution_count": 27,
   "id": "bac3e521",
   "metadata": {},
   "outputs": [
    {
     "name": "stdout",
     "output_type": "stream",
     "text": [
      "tensor(-6.5505, grad_fn=<SumBackward0>)\n",
      "None\n",
      "True\n",
      "tensor([[[ 0.1644,  0.2261, -1.4419],\n",
      "         [ 0.2457,  0.1620, -0.7770]],\n",
      "\n",
      "        [[-0.5902, -0.1798,  0.9096],\n",
      "         [-1.0512, -0.2038,  0.9205]]])\n",
      "False\n"
     ]
    },
    {
     "name": "stderr",
     "output_type": "stream",
     "text": [
      "<ipython-input-27-36d088134e91>:22: UserWarning: The .grad attribute of a Tensor that is not a leaf Tensor is being accessed. Its .grad attribute won't be populated during autograd.backward(). If you indeed want the .grad field to be populated for a non-leaf Tensor, use .retain_grad() on the non-leaf Tensor. If you access the non-leaf Tensor by mistake, make sure you access the leaf Tensor instead. See github.com/pytorch/pytorch/pull/30531 for more informations. (Triggered internally at C:\\actions-runner\\_work\\pytorch\\pytorch\\builder\\windows\\pytorch\\build\\aten\\src\\ATen/core/TensorBody.h:494.)\n",
      "  print(loss.grad)\n"
     ]
    }
   ],
   "source": [
    "def autograd_demo():\n",
    "    #  标准前馈神经网络的一个step,前向传播过程成会逐步计算反向图并生成\n",
    "    data0 = torch.randn(2, 2, 4)  # tensor\n",
    "    w0 = torch.randn(2, 4, 3, requires_grad=True)  # 权重tensor\n",
    "    \n",
    "    data1 = torch.bmm(data0, w0)  #  带batch的矩阵相乘\n",
    "    #要是想要保留并查看中间的梯度怎么设置\n",
    "    data1.retain_grad()  # 开启,默认为false\n",
    "#     data1.retains_grad = True\n",
    "    \n",
    "    \n",
    "    data2 = torch.sigmoid(data1)  # 激活\n",
    "    \n",
    "    w1 = torch.randn(2, 3, 5,requires_grad=True)\n",
    "    output = torch.matmul(data2, w1)\n",
    "    \n",
    "    loss = output.sum()\n",
    "    loss.backward()  # 并不是只有对loss可以做反向传播,对中间的任意一条activation都可以,当loss只有一个值的时候(shape=0),backward不用加参数\n",
    "    w0 = w0 -0.001 * w0.grad  # 权重更新\n",
    "    \n",
    "    print(loss)\n",
    "    print(loss.grad)\n",
    "    print(data1.retains_grad)\n",
    "    print(data1.grad)\n",
    "\n",
    "    with torch.no_grad():\n",
    "        out = torch.matmul(w0, w1)\n",
    "    \n",
    "    print(out.requires_grad)  # 本来因该为True,但是被上下文no_grad(环境变量)所包含在内,所以不计算反向梯度\n",
    "    \n",
    "if __name__ == '__main__':\n",
    "    autograd_demo()"
   ]
  },
  {
   "cell_type": "code",
   "execution_count": 20,
   "id": "c22e982e",
   "metadata": {},
   "outputs": [
    {
     "name": "stdout",
     "output_type": "stream",
     "text": [
      "False\n",
      "True\n"
     ]
    }
   ],
   "source": [
    "# require_grad 的自动推理机制\n",
    "x =torch.rand(5, 5)\n",
    "y = torch.rand(5, 5)\n",
    "z = torch.rand((5, 5), requires_grad = True)\n",
    "\n",
    "# requires_grad=True 并不一定会保留下来,只有叶子节点会保留下来\n",
    "a = x + y\n",
    "print(a.requires_grad)\n",
    "b = x + z\n",
    "print(b.requires_grad)"
   ]
  },
  {
   "cell_type": "code",
   "execution_count": 29,
   "id": "2610f9ad",
   "metadata": {},
   "outputs": [
    {
     "name": "stdout",
     "output_type": "stream",
     "text": [
      "False\n"
     ]
    }
   ],
   "source": [
    "# detach 隔离功能\n",
    "x = torch.tensor([2.0],requires_grad=True)  # 创建一个需要梯度的张量\n",
    "y = x.pow(2) # 计算某个函数的输出\n",
    "z = y.detach()  # 分离张量y,不与计算图相关联\n",
    "w = z * 3  #  对z进行操作不会影响梯度计算\n",
    "print(z.requires_grad)  # 已经被隔离了,不需要计算梯度,所以反向传播不进行\n",
    "# w.backward()\n",
    "# print(x.grad)\n"
   ]
  },
  {
   "cell_type": "code",
   "execution_count": 41,
   "id": "d5156ae6",
   "metadata": {},
   "outputs": [
    {
     "name": "stdout",
     "output_type": "stream",
     "text": [
      "Grad for w first time = tensor([[0.0360, 0.0628, 0.3151],\n",
      "        [0.0360, 0.0628, 0.3151],\n",
      "        [0.0360, 0.0628, 0.3151],\n",
      "        [0.0360, 0.0628, 0.3151],\n",
      "        [0.0360, 0.0628, 0.3151]])\n",
      "Gradient function for z = <AddBackward0 object at 0x000001BDAD7E7790>\n",
      "Gradient function for loss = <BinaryCrossEntropyWithLogitsBackward0 object at 0x000001BDACF5B2E0>\n",
      "Grad for w second time = tensor([[0.0360, 0.0628, 0.3151],\n",
      "        [0.0360, 0.0628, 0.3151],\n",
      "        [0.0360, 0.0628, 0.3151],\n",
      "        [0.0360, 0.0628, 0.3151],\n",
      "        [0.0360, 0.0628, 0.3151]])\n"
     ]
    }
   ],
   "source": [
    "# 梯度累加和清零\n",
    "def grad_accmulate():\n",
    "    x = torch.ones(5)\n",
    "    lable = torch.zeros(3)\n",
    "    w = torch.randn(5, 3, requires_grad=True)\n",
    "    b = torch.randn(3,requires_grad=True)\n",
    "    output = torch.matmul(x, w)+b  # 全连接层\n",
    "    \n",
    "    loss = torch.nn.functional.binary_cross_entropy_with_logits(output, lable)  #损失函数(自带log)\n",
    "    loss.backward(retain_graph=True) # 保留graph,主要保留 fn和前向的activation\n",
    "    print(f\"Grad for w first time = {w.grad}\")\n",
    "    print(f\"Gradient function for z = {output.grad_fn}\")  # grad_fn 就是反向时使用的算子\n",
    "    print(f\"Gradient function for loss = {loss.grad_fn}\")\n",
    "    w.grad.zero_()  # 清零,每一次step之前都要把parameter的梯度值清零,不清零的话会累加到旧的梯度上\n",
    "#     w.grad = None  # 上面一种方式是把梯度数值直接置为0.这个是置None,原Tensor里的显存就释放掉了\n",
    "\"\"\"\n",
    "pytorch的显存机制决定了显存是一块一块取用的,本身带有一定量的显存池,如果置0的话,下一次需要的话可以直接用,置none的话,需要时再申请一块显存.\n",
    "置none的话就有可能会消耗时间,如果当申请时刚好是显存池的最后一块内存,那么朋友pytorch则会再去显卡申请一大块内存,耗时\n",
    "\"\"\"\n",
    "\n",
    "    loss.backward(retain_graph=True)\n",
    "    print(f\"Grad for w second time = {w.grad}\")\n",
    "    \n",
    "    \n",
    "    \n",
    "if __name__ == \"__main__\":\n",
    "    grad_accmulate()\n"
   ]
  },
  {
   "cell_type": "code",
   "execution_count": 43,
   "id": "a867a595",
   "metadata": {},
   "outputs": [],
   "source": [
    "#小心inplace操作\n",
    "#叶子节点不允许使用inplace操作,因为pytorch的设计,叶子节点一般是计算完梯度之后来反向更新,而不是直接更新\n",
    "#所有的parameter都是叶子节点\n",
    "def inplace_demo():\n",
    "    data1 = torch.randn(3, 4)\n",
    "    data1.requires_grad = True\n",
    "    \n",
    "    data1.mul_(2)  # 原地操作直接＋2(inplace)\n",
    "    loss = data1.var()\n",
    "    loss.backward()\n",
    "    \n",
    "    \n",
    "    \n",
    "#  绕过叶子节点不可以原地操作的机制\n",
    "def inplace_demo_v2():\n",
    "    \n",
    "    with torch.no_grad():\n",
    "        data1 = torch.randn(3, 4)\n",
    "        data1.requires_grad = True\n",
    "\n",
    "        data1.mul_(2)  #inplace\n",
    "        data1.backward(torch.randn_like(data1))\n",
    "    \n",
    "    \n",
    "    \n",
    "#RuntimeError: a leaf Variable that requires grad is being used in an in-place operation.\n",
    "if __name__ == '__main__':\n",
    "#     inplace_demo()\n",
    "    inplace_demo_v2()"
   ]
  },
  {
   "cell_type": "code",
   "execution_count": null,
   "id": "fb399e4d",
   "metadata": {},
   "outputs": [],
   "source": []
  },
  {
   "cell_type": "code",
   "execution_count": null,
   "id": "5c126089",
   "metadata": {},
   "outputs": [],
   "source": []
  }
 ],
 "metadata": {
  "kernelspec": {
   "display_name": "Python 3",
   "language": "python",
   "name": "python3"
  },
  "language_info": {
   "codemirror_mode": {
    "name": "ipython",
    "version": 3
   },
   "file_extension": ".py",
   "mimetype": "text/x-python",
   "name": "python",
   "nbconvert_exporter": "python",
   "pygments_lexer": "ipython3",
   "version": "3.8.8"
  }
 },
 "nbformat": 4,
 "nbformat_minor": 5
}
